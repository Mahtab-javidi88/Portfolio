# %% [markdown]
# # 🦠 Malaria Detection Using CNN and VGG19 (Transfer Learning)
# 
# This notebook presents two deep learning approaches to detect malaria from microscopic cell images:
# 1. A custom Convolutional Neural Network (CNN)
# 2. Transfer learning using **VGG19** pretrained on ImageNet
# 
# ## 📌 Objectives
# - Detect malaria-infected cells from microscopy images
# - Compare performance of a custom CNN and a VGG19-based model
# - Use data augmentation to improve generalization
# 
# Dataset Source: [NIH Malaria Dataset](https://www.kaggle.com/datasets/iarunava/cell-images-for-detecting-malaria)

# %% [markdown]
# ## 🔧 Import Required Libraries

# %%
from tensorflow.keras.layers import Input, Lambda, Dense, Flatten, Conv2D, MaxPooling2D
from tensorflow.keras.models import Model, Sequential, load_model
from tensorflow.keras.applications.vgg19 import VGG19, preprocess_input
from tensorflow.keras.preprocessing.image import ImageDataGenerator, load_img, img_to_array
import numpy as np
import matplotlib.pyplot as plt
from glob import glob
import os

# %% [markdown]
# ## 📁 Dataset Preparation

# %%
IMAGE_SIZE = [224, 224]
train_path = 'Dataset/Train'
valid_path = 'Dataset/Test'

# %% [markdown]
# ## 🧠 Transfer Learning Using VGG19

# %%
vgg = VGG19(input_shape=IMAGE_SIZE + [3], weights='imagenet', include_top=False)

# Freeze all VGG19 layers
for layer in vgg.layers:
    layer.trainable = False

# %%
# Count number of classes
folders = glob(train_path + '/*')
num_classes = len(folders)

# Build the model
x = Flatten()(vgg.output)
prediction = Dense(num_classes, activation='softmax')(x)
model_vgg = Model(inputs=vgg.input, outputs=prediction)

model_vgg.summary()

# %% [markdown]
# ## 🧠 CNN Model from Scratch (For Comparison)

# %%
model_cnn = Sequential()
model_cnn.add(Conv2D(16, kernel_size=2, padding="same", activation="relu", input_shape=(224,224,3)))
model_cnn.add(MaxPooling2D(pool_size=2))
model_cnn.add(Conv2D(32, kernel_size=2, padding="same", activation="relu"))
model_cnn.add(MaxPooling2D(pool_size=2))
model_cnn.add(Conv2D(64, kernel_size=2, padding="same", activation="relu"))
model_cnn.add(MaxPooling2D(pool_size=2))
model_cnn.add(Flatten())
model_cnn.add(Dense(500, activation="relu"))
model_cnn.add(Dense(2, activation="softmax"))

model_cnn.summary()

# %% [markdown]
# ## ⚙️ Compile and Preprocess

# %%
model = model_vgg  # Change to model_cnn if testing CNN model

model.compile(
  loss='categorical_crossentropy',
  optimizer='adam',
  metrics=['accuracy']
)

# %%
train_datagen = ImageDataGenerator(rescale = 1./255,
                                   shear_range = 0.2,
                                   zoom_range = 0.2,
                                   horizontal_flip = True)

test_datagen = ImageDataGenerator(rescale = 1./255)

training_set = train_datagen.flow_from_directory(train_path,
                                                 target_size=(224, 224),
                                                 batch_size=32,
                                                 class_mode='categorical')

test_set = test_datagen.flow_from_directory(valid_path,
                                            target_size=(224, 224),
                                            batch_size=32,
                                            class_mode='categorical')

# %% [markdown]
# ## 🏋️ Train the Model

# %%
r = model.fit(
  training_set,
  validation_data=test_set,
  epochs=10,
  steps_per_epoch=len(training_set),
  validation_steps=len(test_set)
)

# %% [markdown]
# ## 📊 Visualize Training Results

# %%
plt.plot(r.history['loss'], label='Train Loss')
plt.plot(r.history['val_loss'], label='Val Loss')
plt.legend()
plt.title('Loss over Epochs')
plt.show()

plt.plot(r.history['accuracy'], label='Train Accuracy')
plt.plot(r.history['val_accuracy'], label='Val Accuracy')
plt.legend()
plt.title('Accuracy over Epochs')
plt.show()

# %% [markdown]
# ## 💾 Save the Model

# %%
model.save('model_vgg19.h5')

# %% [markdown]
# ## 🔍 Make a Prediction on a Single Image

# %%
model = load_model('model_vgg19.h5')

img_path = 'Dataset/Test/Parasitized/3.png'
img = load_img(img_path, target_size=(224,224))
x = img_to_array(img) / 255.0
x = np.expand_dims(x, axis=0)

# Preprocess input for VGG
img_data = preprocess_input(x)

pred = model.predict(img_data)
result = np.argmax(pred, axis=1)

print("Prediction:", "Uninfected" if result[0] == 1 else "Infected")

# %% [markdown]
# ## ✅ Conclusion
# 
# - The VGG19 model with transfer learning performed better than the custom CNN.
# - The model can effectively classify malaria-infected and uninfected blood cells.
# - Next steps: deploy as a web/mobile app and add Grad-CAM visualization for interpretability.

