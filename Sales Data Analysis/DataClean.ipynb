{
 "cells": [
  {
   "cell_type": "code",
   "execution_count": 1,
   "outputs": [],
   "source": [
    "import pandas as pd\n",
    "\n",
    "# Load the dataset\n",
    "data = pd.read_csv('superstore_sales.csv')\n"
   ],
   "metadata": {
    "collapsed": false,
    "ExecuteTime": {
     "end_time": "2025-01-08T14:55:08.699228800Z",
     "start_time": "2025-01-08T14:55:07.845776600Z"
    }
   }
  },
  {
   "cell_type": "code",
   "execution_count": 2,
   "metadata": {
    "collapsed": true,
    "ExecuteTime": {
     "end_time": "2025-01-08T14:55:28.293108800Z",
     "start_time": "2025-01-08T14:55:28.245996300Z"
    }
   },
   "outputs": [
    {
     "name": "stdout",
     "output_type": "stream",
     "text": [
      "<class 'pandas.core.frame.DataFrame'>\n",
      "RangeIndex: 9800 entries, 0 to 9799\n",
      "Data columns (total 18 columns):\n",
      " #   Column         Non-Null Count  Dtype  \n",
      "---  ------         --------------  -----  \n",
      " 0   Row ID         9800 non-null   int64  \n",
      " 1   Order ID       9800 non-null   object \n",
      " 2   Order Date     9800 non-null   object \n",
      " 3   Ship Date      9800 non-null   object \n",
      " 4   Ship Mode      9800 non-null   object \n",
      " 5   Customer ID    9800 non-null   object \n",
      " 6   Customer Name  9800 non-null   object \n",
      " 7   Segment        9800 non-null   object \n",
      " 8   Country        9800 non-null   object \n",
      " 9   City           9800 non-null   object \n",
      " 10  State          9800 non-null   object \n",
      " 11  Postal Code    9789 non-null   float64\n",
      " 12  Region         9800 non-null   object \n",
      " 13  Product ID     9800 non-null   object \n",
      " 14  Category       9800 non-null   object \n",
      " 15  Sub-Category   9800 non-null   object \n",
      " 16  Product Name   9800 non-null   object \n",
      " 17  Sales          9800 non-null   float64\n",
      "dtypes: float64(2), int64(1), object(15)\n",
      "memory usage: 1.3+ MB\n",
      "None\n",
      "            Row ID   Postal Code         Sales\n",
      "count  9800.000000   9789.000000   9800.000000\n",
      "mean   4900.500000  55273.322403    230.769059\n",
      "std    2829.160653  32041.223413    626.651875\n",
      "min       1.000000   1040.000000      0.444000\n",
      "25%    2450.750000  23223.000000     17.248000\n",
      "50%    4900.500000  58103.000000     54.490000\n",
      "75%    7350.250000  90008.000000    210.605000\n",
      "max    9800.000000  99301.000000  22638.480000\n",
      "Row ID            0\n",
      "Order ID          0\n",
      "Order Date        0\n",
      "Ship Date         0\n",
      "Ship Mode         0\n",
      "Customer ID       0\n",
      "Customer Name     0\n",
      "Segment           0\n",
      "Country           0\n",
      "City              0\n",
      "State             0\n",
      "Postal Code      11\n",
      "Region            0\n",
      "Product ID        0\n",
      "Category          0\n",
      "Sub-Category      0\n",
      "Product Name      0\n",
      "Sales             0\n",
      "dtype: int64\n"
     ]
    }
   ],
   "source": [
    "print(data.info())\n",
    "print(data.describe())\n",
    "print(data.isnull().sum())"
   ]
  },
  {
   "cell_type": "code",
   "execution_count": 6,
   "outputs": [],
   "source": [
    "# Convert 'Ship Date' column to datetime with dayfirst=True\n",
    "data['Ship Date'] = pd.to_datetime(data['Ship Date'], dayfirst=True)\n",
    "\n",
    "# Convert 'Order Date' column (if needed)\n",
    "data['Order Date'] = pd.to_datetime(data['Order Date'], dayfirst=True)\n"
   ],
   "metadata": {
    "collapsed": false,
    "ExecuteTime": {
     "end_time": "2025-01-08T15:00:26.961879600Z",
     "start_time": "2025-01-08T15:00:26.944543600Z"
    }
   }
  },
  {
   "cell_type": "code",
   "execution_count": 7,
   "outputs": [
    {
     "name": "stdout",
     "output_type": "stream",
     "text": [
      "   Ship Date Order Date\n",
      "0 2017-11-11 2017-11-08\n",
      "1 2017-11-11 2017-11-08\n",
      "2 2017-06-16 2017-06-12\n",
      "3 2016-10-18 2016-10-11\n",
      "4 2016-10-18 2016-10-11\n"
     ]
    }
   ],
   "source": [
    "print(data[['Ship Date', 'Order Date']].head())"
   ],
   "metadata": {
    "collapsed": false,
    "ExecuteTime": {
     "end_time": "2025-01-08T15:00:39.492432200Z",
     "start_time": "2025-01-08T15:00:39.480962600Z"
    }
   }
  },
  {
   "cell_type": "code",
   "execution_count": 8,
   "outputs": [],
   "source": [
    "data.to_csv('cleaned_superstore_sales.csv', index=False)"
   ],
   "metadata": {
    "collapsed": false,
    "ExecuteTime": {
     "end_time": "2025-01-08T15:01:22.918484300Z",
     "start_time": "2025-01-08T15:01:22.839706200Z"
    }
   }
  },
  {
   "cell_type": "code",
   "execution_count": 10,
   "outputs": [
    {
     "name": "stdout",
     "output_type": "stream",
     "text": [
      "   Row ID        Order ID  Order Date   Ship Date       Ship Mode Customer ID  \\\n",
      "0       1  CA-2017-152156  2017-11-08  2017-11-11    Second Class    CG-12520   \n",
      "1       2  CA-2017-152156  2017-11-08  2017-11-11    Second Class    CG-12520   \n",
      "2       3  CA-2017-138688  2017-06-12  2017-06-16    Second Class    DV-13045   \n",
      "3       4  US-2016-108966  2016-10-11  2016-10-18  Standard Class    SO-20335   \n",
      "4       5  US-2016-108966  2016-10-11  2016-10-18  Standard Class    SO-20335   \n",
      "\n",
      "     Customer Name    Segment        Country             City       State  \\\n",
      "0      Claire Gute   Consumer  United States        Henderson    Kentucky   \n",
      "1      Claire Gute   Consumer  United States        Henderson    Kentucky   \n",
      "2  Darrin Van Huff  Corporate  United States      Los Angeles  California   \n",
      "3   Sean O'Donnell   Consumer  United States  Fort Lauderdale     Florida   \n",
      "4   Sean O'Donnell   Consumer  United States  Fort Lauderdale     Florida   \n",
      "\n",
      "   Postal Code Region       Product ID         Category Sub-Category  \\\n",
      "0      42420.0  South  FUR-BO-10001798        Furniture    Bookcases   \n",
      "1      42420.0  South  FUR-CH-10000454        Furniture       Chairs   \n",
      "2      90036.0   West  OFF-LA-10000240  Office Supplies       Labels   \n",
      "3      33311.0  South  FUR-TA-10000577        Furniture       Tables   \n",
      "4      33311.0  South  OFF-ST-10000760  Office Supplies      Storage   \n",
      "\n",
      "                                        Product Name     Sales  \n",
      "0                  Bush Somerset Collection Bookcase  261.9600  \n",
      "1  Hon Deluxe Fabric Upholstered Stacking Chairs,...  731.9400  \n",
      "2  Self-Adhesive Address Labels for Typewriters b...   14.6200  \n",
      "3      Bretford CR4500 Series Slim Rectangular Table  957.5775  \n",
      "4                     Eldon Fold 'N Roll Cart System   22.3680  \n"
     ]
    }
   ],
   "source": [
    "# بارگذاری دیتاست\n",
    "df = pd.read_csv('cleaned_superstore_sales.csv')\n",
    "\n",
    "# نمایش پنج ردیف اول دیتاست\n",
    "print(df.head())"
   ],
   "metadata": {
    "collapsed": false,
    "ExecuteTime": {
     "end_time": "2025-01-08T15:08:27.292328100Z",
     "start_time": "2025-01-08T15:08:27.244021300Z"
    }
   }
  },
  {
   "cell_type": "code",
   "execution_count": 11,
   "outputs": [
    {
     "name": "stdout",
     "output_type": "stream",
     "text": [
      "   Customer ID    Customer Name    Segment        Country             City  \\\n",
      "0     CG-12520      Claire Gute   Consumer  United States        Henderson   \n",
      "2     DV-13045  Darrin Van Huff  Corporate  United States      Los Angeles   \n",
      "3     SO-20335   Sean O'Donnell   Consumer  United States  Fort Lauderdale   \n",
      "5     BH-11710  Brosina Hoffman   Consumer  United States      Los Angeles   \n",
      "12    AA-10480     Andrew Allen   Consumer  United States          Concord   \n",
      "\n",
      "             State  Postal Code Region  \n",
      "0         Kentucky      42420.0  South  \n",
      "2       California      90036.0   West  \n",
      "3          Florida      33311.0  South  \n",
      "5       California      90032.0   West  \n",
      "12  North Carolina      28027.0  South  \n"
     ]
    }
   ],
   "source": [
    "# ساخت جدول Customers\n",
    "customers_df = df[['Customer ID', 'Customer Name', 'Segment', 'Country', 'City', 'State', 'Postal Code', 'Region']].drop_duplicates()\n",
    "\n",
    "# نمایش داده‌های جدول Customers\n",
    "print(customers_df.head())\n",
    "\n"
   ],
   "metadata": {
    "collapsed": false,
    "ExecuteTime": {
     "end_time": "2025-01-08T15:08:43.535197700Z",
     "start_time": "2025-01-08T15:08:43.508276200Z"
    }
   }
  },
  {
   "cell_type": "markdown",
   "source": [],
   "metadata": {
    "collapsed": false
   }
  },
  {
   "cell_type": "code",
   "execution_count": 12,
   "outputs": [
    {
     "name": "stdout",
     "output_type": "stream",
     "text": [
      "        Product ID                                       Product Name  \\\n",
      "0  FUR-BO-10001798                  Bush Somerset Collection Bookcase   \n",
      "1  FUR-CH-10000454  Hon Deluxe Fabric Upholstered Stacking Chairs,...   \n",
      "2  OFF-LA-10000240  Self-Adhesive Address Labels for Typewriters b...   \n",
      "3  FUR-TA-10000577      Bretford CR4500 Series Slim Rectangular Table   \n",
      "4  OFF-ST-10000760                     Eldon Fold 'N Roll Cart System   \n",
      "\n",
      "          Category Sub-Category  \n",
      "0        Furniture    Bookcases  \n",
      "1        Furniture       Chairs  \n",
      "2  Office Supplies       Labels  \n",
      "3        Furniture       Tables  \n",
      "4  Office Supplies      Storage  \n"
     ]
    }
   ],
   "source": [
    "# ساخت جدول Products\n",
    "products_df = df[['Product ID', 'Product Name', 'Category', 'Sub-Category']].drop_duplicates()\n",
    "\n",
    "# نمایش داده‌های جدول Products\n",
    "print(products_df.head())\n"
   ],
   "metadata": {
    "collapsed": false,
    "ExecuteTime": {
     "end_time": "2025-01-08T15:09:01.653866100Z",
     "start_time": "2025-01-08T15:09:01.620164700Z"
    }
   }
  },
  {
   "cell_type": "code",
   "execution_count": 13,
   "outputs": [
    {
     "name": "stdout",
     "output_type": "stream",
     "text": [
      "          Order ID  Order Date   Ship Date       Ship Mode\n",
      "0   CA-2017-152156  2017-11-08  2017-11-11    Second Class\n",
      "2   CA-2017-138688  2017-06-12  2017-06-16    Second Class\n",
      "3   US-2016-108966  2016-10-11  2016-10-18  Standard Class\n",
      "5   CA-2015-115812  2015-06-09  2015-06-14  Standard Class\n",
      "12  CA-2018-114412  2018-04-15  2018-04-20  Standard Class\n"
     ]
    }
   ],
   "source": [
    "# ساخت جدول Orders\n",
    "orders_df = df[['Order ID', 'Order Date', 'Ship Date', 'Ship Mode']].drop_duplicates()\n",
    "\n",
    "# نمایش داده‌های جدول Orders\n",
    "print(orders_df.head())\n"
   ],
   "metadata": {
    "collapsed": false,
    "ExecuteTime": {
     "end_time": "2025-01-08T15:09:14.508208800Z",
     "start_time": "2025-01-08T15:09:14.490856800Z"
    }
   }
  },
  {
   "cell_type": "code",
   "execution_count": 14,
   "outputs": [
    {
     "name": "stdout",
     "output_type": "stream",
     "text": [
      "         Order ID       Product ID Customer ID     Sales\n",
      "0  CA-2017-152156  FUR-BO-10001798    CG-12520  261.9600\n",
      "1  CA-2017-152156  FUR-CH-10000454    CG-12520  731.9400\n",
      "2  CA-2017-138688  OFF-LA-10000240    DV-13045   14.6200\n",
      "3  US-2016-108966  FUR-TA-10000577    SO-20335  957.5775\n",
      "4  US-2016-108966  OFF-ST-10000760    SO-20335   22.3680\n"
     ]
    }
   ],
   "source": [
    "# ساخت جدول Sales\n",
    "sales_df = df[['Order ID', 'Product ID', 'Customer ID', 'Sales']]\n",
    "\n",
    "# نمایش داده‌های جدول Sales\n",
    "print(sales_df.head())\n"
   ],
   "metadata": {
    "collapsed": false,
    "ExecuteTime": {
     "end_time": "2025-01-08T15:09:35.739705100Z",
     "start_time": "2025-01-08T15:09:35.723172700Z"
    }
   }
  },
  {
   "cell_type": "markdown",
   "source": [],
   "metadata": {
    "collapsed": false
   }
  },
  {
   "cell_type": "code",
   "execution_count": 15,
   "outputs": [
    {
     "name": "stdout",
     "output_type": "stream",
     "text": [
      "داده‌ها با موفقیت بارگذاری شدند!\n"
     ]
    }
   ],
   "source": [
    "from sqlalchemy import create_engine\n",
    "\n",
    "# پیکربندی اتصال به SQL Server\n",
    "server = 'MAHTAB-JAVIDI'  # یا آدرس IP\n",
    "database = 'SalesDataAnalysis'\n",
    "username = 'sa'  # نام کاربری\n",
    "password = '32888'  # پسورد\n",
    "\n",
    "# ایجاد رشته اتصال\n",
    "connection_string = f'mssql+pyodbc://{username}:{password}@{server}/{database}?driver=ODBC+Driver+18+for+SQL+Server'\n",
    "engine = create_engine(connection_string)\n",
    "\n",
    "# بارگذاری داده‌ها به SQL Server\n",
    "customers_df.to_sql('Customers', con=engine, if_exists='replace', index=False)\n",
    "products_df.to_sql('Products', con=engine, if_exists='replace', index=False)\n",
    "orders_df.to_sql('Orders', con=engine, if_exists='replace', index=False)\n",
    "sales_df.to_sql('Sales', con=engine, if_exists='replace', index=False)\n",
    "\n",
    "print(\"داده‌ها با موفقیت بارگذاری شدند!\")\n"
   ],
   "metadata": {
    "collapsed": false,
    "ExecuteTime": {
     "end_time": "2025-01-08T15:10:06.178185600Z",
     "start_time": "2025-01-08T15:10:04.563809700Z"
    }
   }
  },
  {
   "cell_type": "code",
   "execution_count": null,
   "outputs": [],
   "source": [],
   "metadata": {
    "collapsed": false
   }
  }
 ],
 "metadata": {
  "kernelspec": {
   "display_name": "Python 3",
   "language": "python",
   "name": "python3"
  },
  "language_info": {
   "codemirror_mode": {
    "name": "ipython",
    "version": 2
   },
   "file_extension": ".py",
   "mimetype": "text/x-python",
   "name": "python",
   "nbconvert_exporter": "python",
   "pygments_lexer": "ipython2",
   "version": "2.7.6"
  }
 },
 "nbformat": 4,
 "nbformat_minor": 0
}
